{
 "cells": [
  {
   "cell_type": "markdown",
   "id": "0",
   "metadata": {},
   "source": [
    "# Attention mechanisms"
   ]
  },
  {
   "cell_type": "markdown",
   "id": "1",
   "metadata": {},
   "source": [
    "## Dataset"
   ]
  },
  {
   "cell_type": "markdown",
   "id": "2",
   "metadata": {},
   "source": [
    "We will use a dataset from <https://github.com/Charlie9/enron_intent_dataset_verified?tab=readme-ov-file>. This dataset consists of sentences from emails sent between employees of the Enron corporation. Each sentence has been manually labeled regarding whether it contains a request or does not contain a request. We will train an attention model to classify sentences as \"request\" or \"no request\" sentences."
   ]
  },
  {
   "cell_type": "code",
   "execution_count": 35,
   "id": "3",
   "metadata": {},
   "outputs": [],
   "source": [
    "def read_intent_file(file_path: str) -> list[str]:\n",
    "    with open(file_path, 'r') as file:\n",
    "        lines = file.readlines()\n",
    "    return [line.strip() for line in lines]\n",
    "\n",
    "# Read positive and negative intent files\n",
    "pos_intent_path = \"data/Enron/intent_pos\"\n",
    "neg_intent_path = \"data/Enron/intent_neg\"\n",
    "\n",
    "pos_intent_sentences = read_intent_file(pos_intent_path)\n",
    "neg_intent_sentences = read_intent_file(neg_intent_path)"
   ]
  },
  {
   "cell_type": "markdown",
   "id": "4",
   "metadata": {},
   "source": [
    "Take a look at some of these sentences. Does the dataset look as you would expect?"
   ]
  },
  {
   "cell_type": "code",
   "execution_count": 36,
   "id": "5",
   "metadata": {},
   "outputs": [],
   "source": [
    "for i in range(5):\n",
    "    # print out some sentences and remove the ...\n",
    "    pass"
   ]
  },
  {
   "cell_type": "markdown",
   "id": "6",
   "metadata": {},
   "source": [
    "## Tokenization"
   ]
  },
  {
   "cell_type": "markdown",
   "id": "7",
   "metadata": {},
   "source": [
    "Now that we have the sentences, we need to parse them into tokens that can be fed to the model. Tokenization is a surprisingly complicated task which is highly language-dependent.\n",
    "\n",
    "(It is not as simple as identifying words; often parts of words are themselves individual tokens. The past-tense marker `-ed` must be separated from the verb `trained`, for example, to create two tokens: `train` and `ed`. German, then, requires a different algorithm --- the word `trainiert` clearly has the token `t` at the end, but then should the tokens be `trainieren` and `t`? Or `trainier` and `t`?).\n",
    "\n",
    "Luckily, we are physicists rather than linguists, and some very clever people have done the work already. We can parse the sentences using a pre-written tokenizer from PyTorch.\n",
    "\n",
    "NB: You may get an error like\n",
    "\n",
    "```txt\n",
    "A module that was compiled using NumPy 1.x cannot be run in NumPy 2.2.5 as it may crash.\n",
    "```\n",
    "\n",
    "You can safely ignore this warning and just re-run the cell. It should not affect the rest of the tutorial."
   ]
  },
  {
   "cell_type": "code",
   "execution_count": 37,
   "id": "8",
   "metadata": {},
   "outputs": [
    {
     "data": {
      "text/plain": [
       "['please', 'send', 'me', 'the', 'report', 'by', 'eod', '.']"
      ]
     },
     "execution_count": 37,
     "metadata": {},
     "output_type": "execute_result"
    }
   ],
   "source": [
    "from torchtext.data.utils import get_tokenizer\n",
    "\n",
    "tokenizer = get_tokenizer('basic_english')\n",
    "tokens = tokenizer(\"Please send me the report by EOD.\")\n",
    "tokens"
   ]
  },
  {
   "cell_type": "markdown",
   "id": "9",
   "metadata": {},
   "source": [
    "Tokenize some sentences of your choosing and see what happens. Does it work as you expect, or are there any surprises? What if you try to tokenize a non-English sentence?"
   ]
  },
  {
   "cell_type": "code",
   "execution_count": 38,
   "id": "10",
   "metadata": {},
   "outputs": [],
   "source": [
    "# Tokenize some sentences"
   ]
  },
  {
   "cell_type": "markdown",
   "id": "11",
   "metadata": {},
   "source": [
    "Now that we can tokenize individual sentences, we need to build up a vocabulary of tokens that appear in our training data. We will also add two new tokens to the vocabulary --- a token `<unk>` representing an unknown input, and a token `<pad>` for whitespace padding."
   ]
  },
  {
   "cell_type": "code",
   "execution_count": 39,
   "id": "12",
   "metadata": {},
   "outputs": [],
   "source": [
    "from torchtext.vocab import build_vocab_from_iterator\n",
    "\n",
    "def yield_tokens(data_iter):\n",
    "    for txt in data_iter:\n",
    "        yield tokenizer(txt)\n",
    "\n",
    "all_sentences = pos_intent_sentences + neg_intent_sentences\n",
    "\n",
    "vocab = build_vocab_from_iterator(yield_tokens(all_sentences), specials=[\"<unk>\", \"<pad>\"])\n",
    "\n",
    "# We set the default token to be <unk>\n",
    "vocab.set_default_index(vocab['<unk>'])"
   ]
  },
  {
   "cell_type": "markdown",
   "id": "13",
   "metadata": {},
   "source": [
    "Take a look at a few entries of the `vocab` object. What sort of object is it? What does it map words onto?"
   ]
  },
  {
   "cell_type": "code",
   "execution_count": 40,
   "id": "14",
   "metadata": {},
   "outputs": [],
   "source": [
    "# Look at some vocab entries\n",
    "\n",
    "# print(vocab['the'])"
   ]
  },
  {
   "cell_type": "markdown",
   "id": "15",
   "metadata": {},
   "source": [
    "## Model training"
   ]
  },
  {
   "cell_type": "markdown",
   "id": "16",
   "metadata": {},
   "source": [
    "Now let's train an attention-based model to classify sentences as requests or not. We will train an extremely simple model with a single attention head, just to show you how it all works.\n",
    "\n",
    "First, we need to load the data into a PyTorch `DataLoader` that can be passed to the model. This is necessary for easy parallelization of the training (though it is not critical for us in this application).\n",
    "\n",
    "We have hidden some technical details in the `data_management.py` file. Feel free to look at the implementation in there if you are curious."
   ]
  },
  {
   "cell_type": "code",
   "execution_count": 41,
   "id": "17",
   "metadata": {},
   "outputs": [],
   "source": [
    "import torch\n",
    "\n",
    "from data_management import EnronRequestDataset, collate_fn\n",
    "from torch.utils.data import DataLoader\n",
    "\n",
    "# Gather sentences and assign labels\n",
    "sentences = pos_intent_sentences + neg_intent_sentences\n",
    "labels = [1] * len(pos_intent_sentences) + [0] * len(neg_intent_sentences)\n",
    "\n",
    "# Wrap the sentences in a DataLoader object\n",
    "dataset = EnronRequestDataset(sentences, labels, vocab, tokenizer)\n",
    "loader  = DataLoader(dataset,\n",
    "                     batch_size=32,\n",
    "                     shuffle=True,\n",
    "                     collate_fn=lambda batch: collate_fn(batch, vocab),\n",
    "                     num_workers=0,\n",
    "                     pin_memory=True)\n"
   ]
  },
  {
   "cell_type": "markdown",
   "id": "18",
   "metadata": {},
   "source": [
    "Now we can actually train the model! In order to best understand what is happening, we will use a very simple attention mechanism attached to a multilayer perceptron. The implementation has been hidden in the file `attention_model.py` --- feel free to look in there if you'd like! It's not as scary as you might think.\n",
    "\n",
    "For now, we will focus on trying to understand what the model is doing. First, we will load the model."
   ]
  },
  {
   "cell_type": "code",
   "execution_count": 42,
   "id": "19",
   "metadata": {},
   "outputs": [],
   "source": [
    "import attention_model\n",
    "\n",
    "import torch.nn as nn\n",
    "\n",
    "model = attention_model.RequestClassifier(len(vocab), num_layers=1)"
   ]
  },
  {
   "cell_type": "markdown",
   "id": "20",
   "metadata": {},
   "source": [
    "What does the model look like?"
   ]
  },
  {
   "cell_type": "code",
   "execution_count": 43,
   "id": "21",
   "metadata": {},
   "outputs": [
    {
     "data": {
      "text/plain": [
       "RequestClassifier(\n",
       "  (embed): Embedding(6983, 128)\n",
       "  (layers): ModuleList(\n",
       "    (0): SimpleEncoderLayer(\n",
       "      (self_attn): SimpleAttention(\n",
       "        (q): Linear(in_features=128, out_features=128, bias=True)\n",
       "        (k): Linear(in_features=128, out_features=128, bias=True)\n",
       "        (v): Linear(in_features=128, out_features=128, bias=True)\n",
       "        (out): Linear(in_features=128, out_features=128, bias=True)\n",
       "      )\n",
       "      (norm1): LayerNorm((128,), eps=1e-05, elementwise_affine=True)\n",
       "      (ff): Sequential(\n",
       "        (0): Linear(in_features=128, out_features=512, bias=True)\n",
       "        (1): ReLU()\n",
       "        (2): Linear(in_features=512, out_features=128, bias=True)\n",
       "      )\n",
       "      (norm2): LayerNorm((128,), eps=1e-05, elementwise_affine=True)\n",
       "      (dropout): Dropout(p=0.1, inplace=False)\n",
       "    )\n",
       "  )\n",
       "  (classifier): Linear(in_features=128, out_features=2, bias=True)\n",
       ")"
      ]
     },
     "execution_count": 43,
     "metadata": {},
     "output_type": "execute_result"
    }
   ],
   "source": [
    "model"
   ]
  },
  {
   "cell_type": "markdown",
   "id": "22",
   "metadata": {},
   "source": [
    "Now let's see how the untrained model performs on the dataset. We can define a simple function to compute the true and false positive rates."
   ]
  },
  {
   "cell_type": "code",
   "execution_count": 44,
   "id": "23",
   "metadata": {},
   "outputs": [
    {
     "name": "stdout",
     "output_type": "stream",
     "text": [
      "True positive rate: 25.96%\n",
      "False positive rate: 36.66%\n",
      "\n",
      "True negative rate: 63.34%\n",
      "False negative rate: 74.04%\n"
     ]
    }
   ],
   "source": [
    "# Compute true positives, false positives, true negatives, and false negatives\n",
    "def compute_metrics(preds, labels):\n",
    "    tp = ((preds == 1) & (labels == 1)).sum().item()\n",
    "    fp = ((preds == 1) & (labels == 0)).sum().item()\n",
    "    tn = ((preds == 0) & (labels == 0)).sum().item()\n",
    "    fn = ((preds == 0) & (labels == 1)).sum().item()\n",
    "    return tp, fp, tn, fn\n",
    "\n",
    "# Evaluate the model\n",
    "def evaluate_model(model, data_loader):\n",
    "    model.eval()\n",
    "    all_preds = []\n",
    "    all_labels = []\n",
    "\n",
    "    with torch.no_grad():\n",
    "        for src, labels, pad_mask in data_loader:\n",
    "            logits = model(src, src_key_padding_mask=pad_mask)\n",
    "            preds = torch.argmax(logits, dim=1)\n",
    "\n",
    "            all_preds.append(preds)\n",
    "            all_labels.append(labels)\n",
    "\n",
    "    all_preds = torch.cat(all_preds)\n",
    "    all_labels = torch.cat(all_labels)\n",
    "\n",
    "    tp, fp, tn, fn = compute_metrics(all_preds, all_labels)\n",
    "    print(f\"True positive rate: {tp / (tp + fn) * 100:.2f}%\")\n",
    "    print(f\"False positive rate: {fp / (fp + tn) * 100:.2f}%\")\n",
    "    print(\"\")\n",
    "    print(f\"True negative rate: {tn / (tn + fp) * 100:.2f}%\")\n",
    "    print(f\"False negative rate: {fn / (fn + tp) * 100:.2f}%\")\n",
    "\n",
    "evaluate_model(model, loader)"
   ]
  },
  {
   "cell_type": "markdown",
   "id": "24",
   "metadata": {},
   "source": [
    "You should have found that the true and false positive (and true and false negative) are quite bad. This is expected for the untrained model --- it is just randomly guessing.\n",
    "\n",
    "Now let's perform the training. We can train the model over a small number of epochs using a simple binary cross-entropy loss function. Play around with the learning rate and number of epochs --- what do you find in terms of performance?"
   ]
  },
  {
   "cell_type": "code",
   "execution_count": 46,
   "id": "25",
   "metadata": {},
   "outputs": [
    {
     "name": "stdout",
     "output_type": "stream",
     "text": [
      "Epoch 1/20, Loss: 0.0002\n",
      "Epoch 2/20, Loss: 0.0000\n",
      "Epoch 3/20, Loss: 0.0000\n",
      "Epoch 4/20, Loss: 0.0011\n",
      "Epoch 5/20, Loss: 0.0001\n",
      "Epoch 6/20, Loss: 0.0000\n",
      "Epoch 7/20, Loss: 0.0000\n",
      "Epoch 8/20, Loss: 0.0000\n",
      "Epoch 9/20, Loss: 0.0002\n",
      "Epoch 10/20, Loss: 0.0000\n",
      "Epoch 11/20, Loss: 0.0000\n",
      "Epoch 12/20, Loss: 0.0000\n",
      "Epoch 13/20, Loss: 0.0000\n",
      "Epoch 14/20, Loss: 0.0000\n",
      "Epoch 15/20, Loss: 0.0000\n",
      "Epoch 16/20, Loss: 0.0000\n",
      "Epoch 17/20, Loss: 0.0000\n",
      "Epoch 18/20, Loss: 0.0000\n",
      "Epoch 19/20, Loss: 0.0000\n",
      "Epoch 20/20, Loss: 0.0000\n"
     ]
    }
   ],
   "source": [
    "opt = torch.optim.Adam(model.parameters(), lr=1e-3)\n",
    "loss_fn = nn.CrossEntropyLoss()\n",
    "\n",
    "epochs = 20\n",
    "\n",
    "for epoch in range(epochs):\n",
    "    for src, labels, pad_mask in loader:\n",
    "        logits = model(src, src_key_padding_mask=pad_mask)\n",
    "        loss   = loss_fn(logits, labels)\n",
    "\n",
    "        if torch.isnan(logits).any():\n",
    "            print(\"🛑 NaN in logits!\"); break\n",
    "\n",
    "        loss.backward()\n",
    "        opt.step(); opt.zero_grad()\n",
    "\n",
    "    print(f\"Epoch {epoch+1}/{epochs}, Loss: {loss.item():.4f}\")\n"
   ]
  },
  {
   "cell_type": "markdown",
   "id": "26",
   "metadata": {},
   "source": [
    "We have trained a very simple model as a proof-of-concept, but think about what might be missing here, using what you have learned from the other tutorials in the workshop. Would you want to deploy this model in the real world? How could we make it better?"
   ]
  },
  {
   "cell_type": "markdown",
   "id": "27",
   "metadata": {},
   "source": [
    "## Evaluation"
   ]
  },
  {
   "cell_type": "markdown",
   "id": "28",
   "metadata": {},
   "source": [
    "Now that the model is trained, we can evaluate its performance. First, we should compute the true positive and false positive rates."
   ]
  },
  {
   "cell_type": "code",
   "execution_count": 47,
   "id": "29",
   "metadata": {},
   "outputs": [
    {
     "name": "stdout",
     "output_type": "stream",
     "text": [
      "True positive rate: 100.00%\n",
      "False positive rate: 0.00%\n",
      "\n",
      "True negative rate: 100.00%\n",
      "False negative rate: 0.00%\n"
     ]
    }
   ],
   "source": [
    "evaluate_model(model, loader)\n"
   ]
  },
  {
   "cell_type": "markdown",
   "id": "30",
   "metadata": {},
   "source": [
    "You probably found very good performance (unless something went wrong with the training). In fact, the true positive and true negative rates might be 100%. This is indicative of some possible overfitting in the model --- how could we avoid overfitting for future training?\n",
    "\n",
    "Now that we have the trained model, we can play around with it a bit. Let's write a function to evaluate a single sentence."
   ]
  },
  {
   "cell_type": "code",
   "execution_count": 102,
   "id": "31",
   "metadata": {},
   "outputs": [
    {
     "name": "stdout",
     "output_type": "stream",
     "text": [
      "→ 'Please send me the report today by the end of the day.'\n",
      "Prediction: request (P(request)=0.9972)\n",
      "\n",
      "→ 'I need the report as soon as possible.'\n",
      "Prediction: request (P(request)=1.0000)\n",
      "\n",
      "→ 'Can you send me the report?'\n",
      "Prediction: request (P(request)=1.0000)\n",
      "\n",
      "→ 'The weather is nice today.'\n",
      "Prediction: no_request (P(request)=0.0000)\n",
      "\n",
      "→ 'Knut is teaching a lecture on transformers.'\n",
      "Prediction: no_request (P(request)=0.0000)\n",
      "\n",
      "→ 'Student, please evaluate the model performance.'\n",
      "Prediction: request (P(request)=1.0000)\n",
      "\n"
     ]
    }
   ],
   "source": [
    "# Evaluate single sentence\n",
    "import torch\n",
    "import torch.nn.functional as F\n",
    "\n",
    "def predict_sentence(model, sentence, vocab, tokenizer):\n",
    "    model.eval()\n",
    "    with torch.no_grad():\n",
    "        # Tokenize and map to vocabulary\n",
    "        tokens = tokenizer(sentence)\n",
    "        ids    = torch.tensor(vocab(tokens), dtype=torch.long).unsqueeze(0)\n",
    "\n",
    "        # Build padding mask (necessary to pad empty characters)\n",
    "        pad_idx = vocab['<pad>']\n",
    "        mask    = ids != pad_idx\n",
    "\n",
    "        # Run the transformer\n",
    "        logits = model(ids, src_key_padding_mask=~mask)\n",
    "        probs  = F.softmax(logits, dim=-1)\n",
    "\n",
    "        # Return the class with the highest probability (0 or 1)\n",
    "        pred   = probs.argmax(dim=-1).item()\n",
    "\n",
    "    return pred, probs.squeeze().tolist()\n",
    "\n",
    "def print_prediction_for_sentence(sentence, whitespace=True):\n",
    "    pred, probs = predict_sentence(model, sentence, vocab, tokenizer)\n",
    "\n",
    "    label_map = {0: \"no_request\", 1: \"request\"}\n",
    "    print(f\"→ {sentence!r}\")\n",
    "    print(f\"Prediction: {label_map[pred]} (P(request)={probs[1]:.4f})\")\n",
    "\n",
    "    if whitespace:\n",
    "        print()\n",
    "\n",
    "test_sentences = [\n",
    "    \"Please send me the report today by the end of the day.\",\n",
    "    \"I need the report as soon as possible.\",\n",
    "    \"Can you send me the report?\",\n",
    "    \"The weather is nice today.\",\n",
    "    \"Knut is teaching a lecture on transformers.\",\n",
    "    \"Student, please evaluate the model performance.\"\n",
    "]\n",
    "\n",
    "for sentence in test_sentences:\n",
    "    print_prediction_for_sentence(sentence)\n"
   ]
  },
  {
   "cell_type": "markdown",
   "id": "32",
   "metadata": {},
   "source": [
    "This is looking pretty good! Try playing around now with your own sentences."
   ]
  },
  {
   "cell_type": "code",
   "execution_count": 51,
   "id": "33",
   "metadata": {},
   "outputs": [
    {
     "name": "stdout",
     "output_type": "stream",
     "text": [
      "→ 'Write a request here.'\n",
      "Prediction: no_request (P(request)=0.0000)\n",
      "\n",
      "→ 'Write a non-request here.'\n",
      "Prediction: no_request (P(request)=0.0000)\n",
      "\n",
      "→ 'Write a request with non-vocab words here.'\n",
      "Prediction: no_request (P(request)=0.0000)\n",
      "\n",
      "→ 'Schreiben Sie eine Anfrage in einer anderen Sprache hier.'\n",
      "Prediction: no_request (P(request)=0.0000)\n",
      "\n",
      "→ 'Your sentence here.'\n",
      "Prediction: no_request (P(request)=0.0000)\n",
      "\n"
     ]
    }
   ],
   "source": [
    "# Write a request that you might find in a business email (so it uses words that might be in the vocab)\n",
    "sentence = \"Write a request here.\"\n",
    "print_prediction_for_sentence(sentence)\n",
    "\n",
    "# Write a non-request that you might find in a business email\n",
    "sentence = \"Write a non-request here.\"\n",
    "print_prediction_for_sentence(sentence)\n",
    "\n",
    "# Write a request with some words that you think might not be in the vocab\n",
    "sentence = \"Write a request with non-vocab words here.\"\n",
    "print_prediction_for_sentence(sentence)\n",
    "\n",
    "# Write a request in another language (e.g., German)\n",
    "sentence = \"Schreiben Sie eine Anfrage in einer anderen Sprache hier.\"\n",
    "print_prediction_for_sentence(sentence)\n",
    "\n",
    "# Write any sentence of your choosing\n",
    "sentence = \"Your sentence here.\"\n",
    "print_prediction_for_sentence(sentence)"
   ]
  },
  {
   "cell_type": "markdown",
   "id": "34",
   "metadata": {},
   "source": [
    "What do you notice about the model behavior? Do certain words seem to cause the model to predict a sentence as being more request-like? Do certain requests consistently fail? Can you figure out how to modify an incorrectly-classified request in order to make it classify correctly?"
   ]
  },
  {
   "cell_type": "markdown",
   "id": "35",
   "metadata": {},
   "source": [
    "## Visualization"
   ]
  },
  {
   "cell_type": "markdown",
   "id": "d0c140c7",
   "metadata": {},
   "source": [
    "Let's try to visualize what the attention mechanism is doing. For the following sections, if you have changed the topology of your classifier model, make sure that there is only one attention layer.\n",
    "\n",
    "Let's use an example sentence that evaluates as a prediction."
   ]
  },
  {
   "cell_type": "code",
   "execution_count": 57,
   "id": "31020a2f",
   "metadata": {},
   "outputs": [
    {
     "name": "stdout",
     "output_type": "stream",
     "text": [
      "→ 'Please send me this email today.'\n",
      "Prediction: request (P(request)=0.9544)\n",
      "\n"
     ]
    }
   ],
   "source": [
    "visualization_sentence = \"Please send me this email today.\"\n",
    "print_prediction_for_sentence(visualization_sentence)"
   ]
  },
  {
   "cell_type": "markdown",
   "id": "63a9155c",
   "metadata": {},
   "source": [
    "The attention model has been written in such a way that we can extract the attention matrix from the last attention layer of the network. Let's grab it now."
   ]
  },
  {
   "cell_type": "code",
   "execution_count": 96,
   "id": "789a133d",
   "metadata": {},
   "outputs": [
    {
     "name": "stdout",
     "output_type": "stream",
     "text": [
      "Attention matrix:\n",
      "[[1.14635564e-02 2.62287892e-02 7.86871687e-02 1.30310394e-02\n",
      "  5.61954498e-01 3.04966539e-01 3.66833154e-03]\n",
      " [5.92572808e-01 4.45288257e-04 1.22098601e-03 3.88869911e-01\n",
      "  7.67906458e-05 1.19141228e-02 4.90012858e-03]\n",
      " [2.97574133e-01 1.75795835e-02 1.24947224e-02 9.98304337e-02\n",
      "  2.13079199e-01 3.53340954e-01 6.10096985e-03]\n",
      " [9.54213679e-01 5.48219890e-04 7.45185511e-03 3.64516340e-02\n",
      "  9.10183517e-05 7.86720426e-04 4.56926995e-04]\n",
      " [3.07506714e-02 6.07134998e-01 1.33120697e-02 6.44164309e-02\n",
      "  7.60117099e-02 5.58384918e-02 1.52535573e-01]\n",
      " [7.94084117e-05 3.14598717e-02 1.39634853e-04 3.59296381e-01\n",
      "  1.62216872e-02 2.30330494e-04 5.92572689e-01]\n",
      " [9.27848756e-01 6.22453950e-02 2.24192195e-06 1.31979311e-06\n",
      "  6.76415857e-06 9.88145359e-03 1.41249147e-05]]\n"
     ]
    }
   ],
   "source": [
    "import numpy as np\n",
    "\n",
    "def get_attention_matrix(model, sentence, vocab, tokenizer):\n",
    "    tokens = tokenizer(sentence)\n",
    "    ids = torch.tensor(vocab(tokens), dtype=torch.long).unsqueeze(0)\n",
    "    pad_mask = ids == vocab['<pad>']\n",
    "\n",
    "    model.eval()\n",
    "    with torch.no_grad():\n",
    "        _, attention_raw = model(\n",
    "            ids, src_key_padding_mask=pad_mask, return_attn=True\n",
    "        )\n",
    "        attention = np.asarray(attention_raw[0].detach().cpu().tolist())\n",
    "\n",
    "    return attention\n",
    "\n",
    "attention = get_attention_matrix(model, visualization_sentence, vocab, tokenizer)\n",
    "print(\"Attention matrix:\")\n",
    "print(attention)"
   ]
  },
  {
   "cell_type": "markdown",
   "id": "322b38fd",
   "metadata": {},
   "source": [
    "We can interpret the entry in `[row, column] = [i, j]` in the attention matrix as the weight of a query `j` to be used in a linear update of key `i`. For a simple network with a single attention mechanism, this tells you which query words are important to update the meaning of each key word. Thus, if we plot the attention matrix, we can see which words in the sentence influence the meanings of other words (according to the model).\n",
    "\n",
    "We have written a very simple visualization of the sentence, which we can observe below."
   ]
  },
  {
   "cell_type": "code",
   "execution_count": null,
   "id": "36",
   "metadata": {},
   "outputs": [
    {
     "data": {
      "image/png": "[encoded data removed]",
      "text/plain": [
       "<Figure size 640x480 with 2 Axes>"
      ]
     },
     "metadata": {},
     "output_type": "display_data"
    }
   ],
   "source": [
    "import visualization\n",
    "import importlib\n",
    "importlib.reload(visualization)\n",
    "\n",
    "tokens = tokenizer(visualization_sentence)\n",
    "visualization.plot_attention(tokens, attention)\n"
   ]
  },
  {
   "cell_type": "markdown",
   "id": "17aaf60f",
   "metadata": {},
   "source": [
    "You might find, for example, that the word `please` is influencing the meaning of the word `email`, while it is influence by the words `send` and `this`.\n",
    "\n",
    "Let's look at the numerical importance of the top `(key, query)` pairs."
   ]
  },
  {
   "cell_type": "code",
   "execution_count": 92,
   "id": "591171ec",
   "metadata": {},
   "outputs": [
    {
     "name": "stdout",
     "output_type": "stream",
     "text": [
      "Top (query, key) pairs\n",
      "query -> key : attention\n",
      "------------------------\n",
      "\n",
      "please → this : 0.9542\n",
      "please → . : 0.9278\n",
      "send → email : 0.6071\n",
      "please → send : 0.5926\n",
      ". → today : 0.5926\n",
      "email → please : 0.5620\n",
      "this → send : 0.3889\n",
      "this → today : 0.3593\n"
     ]
    }
   ],
   "source": [
    "# Find top (key, query) pairs from attention matrix\n",
    "def find_top_k_pairs(attention, sentence, tokenizer, k=5):\n",
    "    tokens = tokenizer(sentence)\n",
    "    top_k_indices = np.unravel_index(np.argsort(attention.ravel())[-k:], attention.shape)\n",
    "    top_k_pairs = [(tokens[i], tokens[j]) for i, j in zip(*top_k_indices)]\n",
    "    attention_values = [attention[i, j] for i, j in zip(*top_k_indices)]\n",
    "\n",
    "    top_k_pairs = sorted(zip(top_k_pairs, attention_values), key=lambda x: x[1], reverse=True)\n",
    "    return top_k_pairs\n",
    "\n",
    "def print_top_k_pairs(attention, sentence, tokenizer, k=5):\n",
    "    top_k_pairs = find_top_k_pairs(attention, sentence, tokenizer, k=k)\n",
    "    print(\"Top (query, key) pairs\")\n",
    "    print(\"query -> key : attention\")\n",
    "    print(\"------------------------\")\n",
    "    print(\"\")\n",
    "    for (key, query), pair_attn in top_k_pairs:\n",
    "        print(f\"{query} → {key} : {pair_attn:.4f}\")\n",
    "\n",
    "print_top_k_pairs(attention, visualization_sentence, tokenizer, k=8)"
   ]
  },
  {
   "cell_type": "markdown",
   "id": "52ce0ef3",
   "metadata": {},
   "source": [
    "Do these results make sense to you?\n",
    "\n",
    "We can also sum over the keys to see which queries are the most important as influencing words."
   ]
  },
  {
   "cell_type": "code",
   "execution_count": 94,
   "id": "8cde43e4",
   "metadata": {},
   "outputs": [
    {
     "data": {
      "text/html": [
       "<span style=\"opacity: 1.0; margin-right: 4px;\">please</span><span style=\"opacity: 1.0; margin-right: 4px;\">send</span><span style=\"opacity: 1.0; margin-right: 4px;\">me</span><span style=\"opacity: 1.0; margin-right: 4px;\">this</span><span style=\"opacity: 1.0; margin-right: 4px;\">email</span><span style=\"opacity: 1.0; margin-right: 4px;\">today</span><span style=\"opacity: 1.0; margin-right: 4px;\">.</span>"
      ],
      "text/plain": [
       "<IPython.core.display.HTML object>"
      ]
     },
     "metadata": {},
     "output_type": "display_data"
    },
    {
     "data": {
      "text/html": [
       "<span style=\"opacity: 1.00; margin-right: 4px;\">please</span><span style=\"opacity: 0.23; margin-right: 4px;\">send</span><span style=\"opacity: 0.00; margin-right: 4px;\">me</span><span style=\"opacity: 0.31; margin-right: 4px;\">this</span><span style=\"opacity: 0.28; margin-right: 4px;\">email</span><span style=\"opacity: 0.23; margin-right: 4px;\">today</span><span style=\"opacity: 0.24; margin-right: 4px;\">.</span>"
      ],
      "text/plain": [
       "<IPython.core.display.HTML object>"
      ]
     },
     "metadata": {},
     "output_type": "display_data"
    }
   ],
   "source": [
    "importlib.reload(visualization)\n",
    "\n",
    "visualization.display_sentence_with_alpha(visualization_sentence, tokenizer, attention)"
   ]
  },
  {
   "cell_type": "markdown",
   "id": "76ae31da",
   "metadata": {},
   "source": [
    "Let's package everything into a single function for easy visualization."
   ]
  },
  {
   "cell_type": "code",
   "execution_count": 103,
   "id": "d2a2f62b",
   "metadata": {},
   "outputs": [
    {
     "name": "stdout",
     "output_type": "stream",
     "text": [
      "→ 'Please send me this email today.'\n",
      "Prediction: request (P(request)=0.9544)\n"
     ]
    },
    {
     "data": {
      "text/html": [
       "<span style=\"opacity: 1.0; margin-right: 4px;\">please</span><span style=\"opacity: 1.0; margin-right: 4px;\">send</span><span style=\"opacity: 1.0; margin-right: 4px;\">me</span><span style=\"opacity: 1.0; margin-right: 4px;\">this</span><span style=\"opacity: 1.0; margin-right: 4px;\">email</span><span style=\"opacity: 1.0; margin-right: 4px;\">today</span><span style=\"opacity: 1.0; margin-right: 4px;\">.</span>"
      ],
      "text/plain": [
       "<IPython.core.display.HTML object>"
      ]
     },
     "metadata": {},
     "output_type": "display_data"
    },
    {
     "data": {
      "text/html": [
       "<span style=\"opacity: 1.00; margin-right: 4px;\">please</span><span style=\"opacity: 0.23; margin-right: 4px;\">send</span><span style=\"opacity: 0.00; margin-right: 4px;\">me</span><span style=\"opacity: 0.31; margin-right: 4px;\">this</span><span style=\"opacity: 0.28; margin-right: 4px;\">email</span><span style=\"opacity: 0.23; margin-right: 4px;\">today</span><span style=\"opacity: 0.24; margin-right: 4px;\">.</span>"
      ],
      "text/plain": [
       "<IPython.core.display.HTML object>"
      ]
     },
     "metadata": {},
     "output_type": "display_data"
    },
    {
     "data": {
      "image/png": "[encoded data removed]",
      "text/plain": [
       "<Figure size 640x480 with 2 Axes>"
      ]
     },
     "metadata": {},
     "output_type": "display_data"
    },
    {
     "name": "stdout",
     "output_type": "stream",
     "text": [
      "Top (query, key) pairs\n",
      "query -> key : attention\n",
      "------------------------\n",
      "\n",
      "please → this : 0.9542\n",
      "please → . : 0.9278\n",
      "send → email : 0.6071\n",
      "please → send : 0.5926\n",
      ". → today : 0.5926\n",
      "email → please : 0.5620\n",
      "this → send : 0.3889\n",
      "this → today : 0.3593\n"
     ]
    }
   ],
   "source": [
    "def run_visualization(model, sentence, vocab, tokenizer):\n",
    "    print_prediction_for_sentence(sentence, whitespace=False)\n",
    "\n",
    "    attention = get_attention_matrix(model, sentence, vocab, tokenizer)\n",
    "\n",
    "    visualization.display_sentence_with_alpha(sentence, tokenizer, attention)\n",
    "\n",
    "    tokens = tokenizer(sentence)\n",
    "    visualization.plot_attention(tokens, attention)\n",
    "\n",
    "    print_top_k_pairs(attention, sentence, tokenizer, k=8)\n",
    "\n",
    "run_visualization(model, visualization_sentence, vocab, tokenizer)"
   ]
  },
  {
   "cell_type": "markdown",
   "id": "37",
   "metadata": {},
   "source": [
    "Now it's your turn! Play around with a few sentences. What do you notice? Is the model focusing on what you expect?"
   ]
  },
  {
   "cell_type": "code",
   "execution_count": 104,
   "id": "38",
   "metadata": {},
   "outputs": [
    {
     "name": "stdout",
     "output_type": "stream",
     "text": [
      "→ 'Your sentence here.'\n",
      "Prediction: no_request (P(request)=0.0000)\n"
     ]
    },
    {
     "data": {
      "text/html": [
       "<span style=\"opacity: 1.0; margin-right: 4px;\">your</span><span style=\"opacity: 1.0; margin-right: 4px;\">sentence</span><span style=\"opacity: 1.0; margin-right: 4px;\">here</span><span style=\"opacity: 1.0; margin-right: 4px;\">.</span>"
      ],
      "text/plain": [
       "<IPython.core.display.HTML object>"
      ]
     },
     "metadata": {},
     "output_type": "display_data"
    },
    {
     "data": {
      "text/html": [
       "<span style=\"opacity: 0.25; margin-right: 4px;\">your</span><span style=\"opacity: 0.00; margin-right: 4px;\">sentence</span><span style=\"opacity: 0.60; margin-right: 4px;\">here</span><span style=\"opacity: 1.00; margin-right: 4px;\">.</span>"
      ],
      "text/plain": [
       "<IPython.core.display.HTML object>"
      ]
     },
     "metadata": {},
     "output_type": "display_data"
    },
    {
     "data": {
      "image/png": "[encoded data removed]",
      "text/plain": [
       "<Figure size 640x480 with 2 Axes>"
      ]
     },
     "metadata": {},
     "output_type": "display_data"
    },
    {
     "name": "stdout",
     "output_type": "stream",
     "text": [
      "Top (query, key) pairs\n",
      "query -> key : attention\n",
      "------------------------\n",
      "\n",
      ". → your : 0.9918\n",
      "here → . : 0.9099\n",
      ". → sentence : 0.8966\n",
      "your → here : 0.5577\n",
      "here → here : 0.3206\n",
      ". → here : 0.1206\n",
      "sentence → . : 0.0890\n",
      "your → sentence : 0.0407\n"
     ]
    }
   ],
   "source": [
    "test_sentence = \"Your sentence here.\"\n",
    "\n",
    "run_visualization(model, test_sentence, vocab, tokenizer)"
   ]
  },
  {
   "cell_type": "code",
   "execution_count": null,
   "id": "c4612f51",
   "metadata": {},
   "outputs": [],
   "source": []
  }
 ],
 "metadata": {
  "kernelspec": {
   "display_name": "ErUM-2",
   "language": "python",
   "name": "python3"
  },
  "language_info": {
   "codemirror_mode": {
    "name": "ipython",
    "version": 3
   },
   "file_extension": ".py",
   "mimetype": "text/x-python",
   "name": "python",
   "nbconvert_exporter": "python",
   "pygments_lexer": "ipython3",
   "version": "3.11.9"
  }
 },
 "nbformat": 4,
 "nbformat_minor": 5
}
